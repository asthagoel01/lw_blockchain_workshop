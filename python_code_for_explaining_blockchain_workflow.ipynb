{
 "cells": [
  {
   "cell_type": "code",
   "execution_count": 1,
   "id": "40263160",
   "metadata": {},
   "outputs": [],
   "source": [
    "import datetime\n",
    "import json\n",
    "import hashlib\n",
    "import pandas"
   ]
  },
  {
   "cell_type": "code",
   "execution_count": 2,
   "id": "474a2e00",
   "metadata": {},
   "outputs": [],
   "source": [
    "#loading dataset of the shop containing transaction details\n",
    "#currentlu uploading my transaction file from downloads but can change\n",
    "store_transaction_details=pandas.read_csv(r'C:\\Users\\divya\\Downloads\\transaction_details_bc_task.csv')"
   ]
  },
  {
   "cell_type": "code",
   "execution_count": 7,
   "id": "c841a8e7",
   "metadata": {},
   "outputs": [],
   "source": [
    "class MyBlockChain:\n",
    "    def __init__(self):\n",
    "        self.chain = []\n",
    "        # Genesis Block\n",
    "        self.create_block(current_transaction={\"TransactionNo\":0,\"Date\":0,\"ProductNo\":0,\"ProductName\":0,\"Price\":0,\"Quantity\":0,\"CustomerNo\":0,\"Country\":0}, proof=1, previous_hash=None) \n",
    "    \n",
    "    #create block and add it to current blockchain\n",
    "    def create_block(self,current_transaction, proof, previous_hash): \n",
    "        block = {\n",
    "            \"index\": len(self.chain) + 1,\n",
    "            \"timestamp\": str (datetime.datetime.now()),\n",
    "            \"proof\": proof,\n",
    "            \"Transaction_No\": current_transaction['TransactionNo'],\n",
    "            \"Date\": current_transaction['Date'],\n",
    "            \"Product_No\": current_transaction['ProductNo'],\n",
    "            \"Product_Name\": current_transaction['ProductName'],\n",
    "            \"Price\": current_transaction['Price'],\n",
    "            \"Quantity\":current_transaction['Quantity'],\n",
    "            \"Customer_No\":current_transaction['CustomerNo'],\n",
    "            \"Country\":current_transaction['Country'],\n",
    "            \"previous_hash\": previous_hash,\n",
    "            }\n",
    "#Generally, validation of block happens before adding block,currently as it is not on any blockchain network so just for showing basic work flow of BlockChain,directly adding block\n",
    "        self.chain.append(block) \n",
    "    \n",
    "    #function to get previous block into blockchain\n",
    "    def get_previous_block(self):\n",
    "            return self.chain[-1]\n",
    "    \n",
    "    # function to execute mining\n",
    "    def proof_of_work(self, previous_proof):\n",
    "        new_proof = 1\n",
    "        while True:    \n",
    "            hash_operation = hashlib.sha256( str (new_proof**2 - previous_proof**2 ).encode()).hexdigest()\n",
    "            if hash_operation[0:4] == '0000': #puzzle\n",
    "                print(\"Mining done.\",\"Nounce found after mining is:\",new_proof)\n",
    "                break\n",
    "            else:\n",
    "                new_proof +=1\n",
    "        return new_proof\n",
    "    \n",
    "    #find hash of inputted block \n",
    "    def hash(self, block):\n",
    "        return hashlib.sha256(json.dumps(block, sort_keys=True).encode()).hexdigest()"
   ]
  },
  {
   "cell_type": "code",
   "execution_count": 8,
   "id": "6a8b986d",
   "metadata": {},
   "outputs": [],
   "source": [
    "BlockChain=MyBlockChain() #creating a blockchain with genesis block"
   ]
  },
  {
   "cell_type": "code",
   "execution_count": 9,
   "id": "2a0971ce",
   "metadata": {},
   "outputs": [],
   "source": [
    "def MyBlockchainWorkFlow():\n",
    "    for index, my_transaction in store_transaction_details.iterrows():\n",
    "        previous_block=BlockChain.get_previous_block()\n",
    "        previous_proof=previous_block['proof']\n",
    "        nounce_after_mining=BlockChain.proof_of_work(previous_proof) #we are getting nounce after mining is done\n",
    "        previous_hash=BlockChain.hash(previous_block)\n",
    "        BlockChain.create_block(my_transaction,nounce_after_mining,previous_hash)#block is being added after mining\n",
    "    return(\"Transaction\",index,\"successfully added into Blockchain\",BlockChain.chain,\"after finding nounce as:\",nounce_after_mining) #observe that block is added because mining is done"
   ]
  },
  {
   "cell_type": "code",
   "execution_count": 10,
   "id": "9e0ce3c9",
   "metadata": {},
   "outputs": [
    {
     "name": "stdout",
     "output_type": "stream",
     "text": [
      "Mining done. Nounce found after mining is: 533\n",
      "Mining done. Nounce found after mining is: 45293\n",
      "Mining done. Nounce found after mining is: 21391\n",
      "Mining done. Nounce found after mining is: 8018\n",
      "Mining done. Nounce found after mining is: 48191\n",
      "Mining done. Nounce found after mining is: 19865\n",
      "Mining done. Nounce found after mining is: 95063\n",
      "Mining done. Nounce found after mining is: 15457\n",
      "Mining done. Nounce found after mining is: 15479\n",
      "Mining done. Nounce found after mining is: 7889\n",
      "Mining done. Nounce found after mining is: 72474\n",
      "Mining done. Nounce found after mining is: 126616\n",
      "Mining done. Nounce found after mining is: 64161\n",
      "Mining done. Nounce found after mining is: 144125\n"
     ]
    }
   ],
   "source": [
    "built_blockchain=MyBlockchainWorkFlow()"
   ]
  },
  {
   "cell_type": "code",
   "execution_count": null,
   "id": "f983d345",
   "metadata": {},
   "outputs": [],
   "source": [
    "#created blockchain\n",
    "print(built_blockchain)"
   ]
  },
  {
   "cell_type": "code",
   "execution_count": null,
   "id": "6e95b097",
   "metadata": {},
   "outputs": [],
   "source": []
  }
 ],
 "metadata": {
  "kernelspec": {
   "display_name": "Python 3 (ipykernel)",
   "language": "python",
   "name": "python3"
  },
  "language_info": {
   "codemirror_mode": {
    "name": "ipython",
    "version": 3
   },
   "file_extension": ".py",
   "mimetype": "text/x-python",
   "name": "python",
   "nbconvert_exporter": "python",
   "pygments_lexer": "ipython3",
   "version": "3.9.7"
  }
 },
 "nbformat": 4,
 "nbformat_minor": 5
}
